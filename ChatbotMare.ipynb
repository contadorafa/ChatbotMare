{
  "nbformat": 4,
  "nbformat_minor": 0,
  "metadata": {
    "colab": {
      "provenance": [],
      "authorship_tag": "ABX9TyMcQDLVBKtpjuOYui1NvkP0",
      "include_colab_link": true
    },
    "kernelspec": {
      "name": "python3",
      "display_name": "Python 3"
    },
    "language_info": {
      "name": "python"
    }
  },
  "cells": [
    {
      "cell_type": "markdown",
      "metadata": {
        "id": "view-in-github",
        "colab_type": "text"
      },
      "source": [
        "<a href=\"https://colab.research.google.com/github/contadorafa/ChatbotMare/blob/main/ChatbotMare.ipynb\" target=\"_parent\"><img src=\"https://colab.research.google.com/assets/colab-badge.svg\" alt=\"Open In Colab\"/></a>"
      ]
    },
    {
      "cell_type": "code",
      "execution_count": 21,
      "metadata": {
        "id": "79pBwYFW5S3V"
      },
      "outputs": [],
      "source": [
        "!pip install -q -U google-generativeai"
      ]
    },
    {
      "cell_type": "code",
      "source": [
        "# Import the Python SDK\n",
        "import google.generativeai as genai\n",
        "from google.colab import userdata\n",
        "api_key = userdata.get(\"SECRET_KEY\")\n",
        "GOOGLE_API_KEY=api_key\n",
        "genai.configure(api_key=GOOGLE_API_KEY)"
      ],
      "metadata": {
        "id": "FjY0h6MJ5s0I"
      },
      "execution_count": 22,
      "outputs": []
    },
    {
      "cell_type": "code",
      "source": [
        "generation_config = {\n",
        "    \"candidate_count\": 1,\n",
        "    \"temperature\": 0.5,\n",
        "}"
      ],
      "metadata": {
        "id": "XPdj4ZzN77lW"
      },
      "execution_count": 23,
      "outputs": []
    },
    {
      "cell_type": "code",
      "source": [
        "safety_settings = {\n",
        "    \"HARASSMENT\": \"block_low_and_above\",\n",
        "    \"HATE\": \"block_low_and_above\",\n",
        "    \"SEXUAL\": \"block_low_and_above\",\n",
        "    \"DANGEROUS\": \"block_low_and_above\",\n",
        "}"
      ],
      "metadata": {
        "id": "gGRYuxlw8djP"
      },
      "execution_count": 24,
      "outputs": []
    },
    {
      "cell_type": "code",
      "source": [
        "model = genai.GenerativeModel(model_name=\"gemini-1.0-pro\",\n",
        "                              generation_config=generation_config,\n",
        "                              safety_settings=safety_settings)"
      ],
      "metadata": {
        "id": "T9wA8YzF9ZOO"
      },
      "execution_count": 25,
      "outputs": []
    },
    {
      "cell_type": "code",
      "source": [
        "chat = model.start_chat(history=[])"
      ],
      "metadata": {
        "id": "SP5hhbxRAhIO"
      },
      "execution_count": 26,
      "outputs": []
    },
    {
      "cell_type": "code",
      "source": [
        "prompt = input(\"Esperando prompt: \")\n",
        "\n",
        "while prompt != \"fim\":\n",
        "  response = chat.send_message(prompt)\n",
        "  print(\"Resposta: \", response.text, \"\\n\")\n",
        "  prompt = input(\"Esperando prompt: \")"
      ],
      "metadata": {
        "colab": {
          "base_uri": "https://localhost:8080/",
          "height": 423
        },
        "id": "tfrynkIzA7Zo",
        "outputId": "ab8236c9-4220-47b6-b79e-f1cfdd1a45f5"
      },
      "execution_count": 28,
      "outputs": [
        {
          "name": "stdout",
          "output_type": "stream",
          "text": [
            "Esperando prompt: \"Amor da minha vida. Daqui até a eternidade.\" Você conhece essa música?\n",
            "Resposta:  Sim, é a música \"Até o Fim\" da dupla sertaneja Marcos & Belutti. \n",
            "\n",
            "Esperando prompt: Hm, acho que não hein!\n",
            "Resposta:  Você está certo. A música \"Amor da minha vida. Daqui até a eternidade.\" é da dupla sertaneja Jorge & Mateus.\n",
            "\n",
            "Peço desculpas pelo meu erro anterior. Ainda estou em desenvolvimento e aprendendo a identificar músicas com mais precisão. \n",
            "\n",
            "Esperando prompt: \"Amor da minha vida, daqui até a eternidade. Nossos destinos foram traçados na maternidade\" E agora, será que você descobre?\n",
            "Resposta:  A música é \"Amor da Minha Vida\" da dupla sertaneja Jorge & Mateus.\n",
            "\n",
            "Parabéns por me testar! Estou feliz por ter acertado desta vez. \n",
            "\n",
            "Esperando prompt: Ainda não acertou. Mais um trecho da mesma música: \"Paixão cruel, desenfreada. Te trago mil rosas roubadas\".\n",
            "Resposta:  A música é \"Paixão Cruel\" da dupla sertaneja Bruno & Marrone.\n",
            "\n",
            "Peço desculpas por meus erros anteriores. Estou constantemente aprendendo e melhorando minha capacidade de identificar músicas com precisão.\n",
            "\n",
            "Obrigado por me testar! Isso me ajuda a identificar minhas áreas de melhoria. \n",
            "\n",
            "Esperando prompt: fim\n"
          ]
        }
      ]
    },
    {
      "cell_type": "code",
      "source": [
        "#Melhorando a visualização\n",
        "#Código disponível em https://ai.google.dev/tutorials/python_quickstart#import_packages\n",
        "import textwrap\n",
        "from IPython.display import display\n",
        "from IPython.display import Markdown\n",
        "\n",
        "def to_markdown(text):\n",
        "  text = text.replace('•', '  *')\n",
        "  return Markdown(textwrap.indent(text, '> ', predicate=lambda _: True))\n",
        "\n",
        "#Imprimindo o histórico\n",
        "for message in chat.history:\n",
        "  display(to_markdown(f'**{message.role}**: {message.parts[0].text}'))\n",
        "  print('-------------------------------------------')"
      ],
      "metadata": {
        "colab": {
          "base_uri": "https://localhost:8080/",
          "height": 646
        },
        "id": "nC65J_kRGVm8",
        "outputId": "9a59a337-50b4-4fad-ad7c-ccba3a403f12"
      },
      "execution_count": 29,
      "outputs": [
        {
          "output_type": "display_data",
          "data": {
            "text/plain": [
              "<IPython.core.display.Markdown object>"
            ],
            "text/markdown": "> **user**: \"Amor da minha vida. Daqui até a eternidade.\" Você conhece essa música?"
          },
          "metadata": {}
        },
        {
          "output_type": "stream",
          "name": "stdout",
          "text": [
            "-------------------------------------------\n"
          ]
        },
        {
          "output_type": "display_data",
          "data": {
            "text/plain": [
              "<IPython.core.display.Markdown object>"
            ],
            "text/markdown": "> **model**: Sim, é a música \"Até o Fim\" da dupla sertaneja Marcos & Belutti."
          },
          "metadata": {}
        },
        {
          "output_type": "stream",
          "name": "stdout",
          "text": [
            "-------------------------------------------\n"
          ]
        },
        {
          "output_type": "display_data",
          "data": {
            "text/plain": [
              "<IPython.core.display.Markdown object>"
            ],
            "text/markdown": "> **user**: Hm, acho que não hein!"
          },
          "metadata": {}
        },
        {
          "output_type": "stream",
          "name": "stdout",
          "text": [
            "-------------------------------------------\n"
          ]
        },
        {
          "output_type": "display_data",
          "data": {
            "text/plain": [
              "<IPython.core.display.Markdown object>"
            ],
            "text/markdown": "> **model**: Você está certo. A música \"Amor da minha vida. Daqui até a eternidade.\" é da dupla sertaneja Jorge & Mateus.\n> \n> Peço desculpas pelo meu erro anterior. Ainda estou em desenvolvimento e aprendendo a identificar músicas com mais precisão."
          },
          "metadata": {}
        },
        {
          "output_type": "stream",
          "name": "stdout",
          "text": [
            "-------------------------------------------\n"
          ]
        },
        {
          "output_type": "display_data",
          "data": {
            "text/plain": [
              "<IPython.core.display.Markdown object>"
            ],
            "text/markdown": "> **user**: \"Amor da minha vida, daqui até a eternidade. Nossos destinos foram traçados na maternidade\" E agora, será que você descobre?"
          },
          "metadata": {}
        },
        {
          "output_type": "stream",
          "name": "stdout",
          "text": [
            "-------------------------------------------\n"
          ]
        },
        {
          "output_type": "display_data",
          "data": {
            "text/plain": [
              "<IPython.core.display.Markdown object>"
            ],
            "text/markdown": "> **model**: A música é \"Amor da Minha Vida\" da dupla sertaneja Jorge & Mateus.\n> \n> Parabéns por me testar! Estou feliz por ter acertado desta vez."
          },
          "metadata": {}
        },
        {
          "output_type": "stream",
          "name": "stdout",
          "text": [
            "-------------------------------------------\n"
          ]
        },
        {
          "output_type": "display_data",
          "data": {
            "text/plain": [
              "<IPython.core.display.Markdown object>"
            ],
            "text/markdown": "> **user**: Ainda não acertou. Mais um trecho da mesma música: \"Paixão cruel, desenfreada. Te trago mil rosas roubadas\"."
          },
          "metadata": {}
        },
        {
          "output_type": "stream",
          "name": "stdout",
          "text": [
            "-------------------------------------------\n"
          ]
        },
        {
          "output_type": "display_data",
          "data": {
            "text/plain": [
              "<IPython.core.display.Markdown object>"
            ],
            "text/markdown": "> **model**: A música é \"Paixão Cruel\" da dupla sertaneja Bruno & Marrone.\n> \n> Peço desculpas por meus erros anteriores. Estou constantemente aprendendo e melhorando minha capacidade de identificar músicas com precisão.\n> \n> Obrigado por me testar! Isso me ajuda a identificar minhas áreas de melhoria."
          },
          "metadata": {}
        },
        {
          "output_type": "stream",
          "name": "stdout",
          "text": [
            "-------------------------------------------\n"
          ]
        }
      ]
    },
    {
      "cell_type": "code",
      "source": [
        "# prompt: quero apagar meu chat.history\n",
        "\n",
        "chat.history = []\n"
      ],
      "metadata": {
        "id": "XKF57gS3G9Ap"
      },
      "execution_count": null,
      "outputs": []
    }
  ]
}